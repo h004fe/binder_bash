{
 "cells": [
  {
   "cell_type": "code",
   "execution_count": 2,
   "id": "04201fea-17b2-4c9c-b9fd-40b82671b5fb",
   "metadata": {},
   "outputs": [
    {
     "name": "stdout",
     "output_type": "stream",
     "text": [
      "bash: fg: %run: no such job\n"
     ]
    },
    {
     "ename": "",
     "evalue": "1",
     "output_type": "error",
     "traceback": []
    }
   ],
   "source": [
    "%run \"/home/jovyan/UNIXプログラミング環境 (アスキードワンゴ)/chap1/pre_dialogue.p.22.2.ipynb\""
   ]
  },
  {
   "cell_type": "code",
   "execution_count": 9,
   "id": "5992fcdc-7d79-4727-aad6-3e17888c9fc6",
   "metadata": {
    "scrolled": true
   },
   "outputs": [
    {
     "name": "stdout",
     "output_type": "stream",
     "text": [
      "bash: fg: %%pip: no such job\n"
     ]
    },
    {
     "ename": "",
     "evalue": "1",
     "output_type": "error",
     "traceback": []
    }
   ],
   "source": [
    "%%pip"
   ]
  },
  {
   "cell_type": "code",
   "execution_count": 10,
   "id": "9285de7e-8c5a-4e92-aa94-d8822a8ef5b7",
   "metadata": {},
   "outputs": [
    {
     "name": "stdout",
     "output_type": "stream",
     "text": [
      "Available kernels:\n",
      "  python3    /srv/conda/envs/notebook/share/jupyter/kernels/python3\n",
      "  bash       /home/jovyan/.local/share/jupyter/kernels/bash\n"
     ]
    }
   ],
   "source": [
    "jupyter kernelspec list"
   ]
  },
  {
   "cell_type": "code",
   "execution_count": 11,
   "id": "2f4d6112-0361-4311-9710-2d505cfddae1",
   "metadata": {},
   "outputs": [
    {
     "name": "stdout",
     "output_type": "stream",
     "text": [
      "bash: console:change-kernel: command not found\n"
     ]
    },
    {
     "ename": "",
     "evalue": "127",
     "output_type": "error",
     "traceback": []
    }
   ],
   "source": [
    "console:change-kernel"
   ]
  }
 ],
 "metadata": {
  "kernelspec": {
   "display_name": "Bash",
   "language": "bash",
   "name": "bash"
  },
  "language_info": {
   "codemirror_mode": "shell",
   "file_extension": ".sh",
   "mimetype": "text/x-sh",
   "name": "bash"
  }
 },
 "nbformat": 4,
 "nbformat_minor": 5
}
