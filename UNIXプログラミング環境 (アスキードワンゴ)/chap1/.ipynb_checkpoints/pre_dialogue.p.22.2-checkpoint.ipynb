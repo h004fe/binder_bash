{
 "cells": [
  {
   "cell_type": "code",
   "execution_count": 22,
   "id": "05bfe705-03d2-4182-9988-430b21a0ecda",
   "metadata": {},
   "outputs": [
    {
     "name": "stdout",
     "output_type": "stream",
     "text": [
      "-------- [in the bash environment] --------\n",
      "$ ed\n",
      "a\n",
      "To be or not to be\n",
      ".\n",
      "w junk\n",
      "19\n",
      "q\n",
      "$ ed\n",
      "a\n",
      "This is the question.\n",
      ".\n",
      "w temp\n",
      "2\n",
      "q\n",
      "-------------------------------------------\n"
     ]
    }
   ],
   "source": [
    "# change directory to tmp\n",
    "cd \"/home/jovyan/UNIXプログラミング環境 (アスキードワンゴ)/tmp\"\n",
    "\n",
    "# writing contents\n",
    "str1=\"To be or not to be\"\n",
    "str2=\"This is the question.\"\n",
    "\n",
    "# make junk file\n",
    "echo \"-------- [in the bash environment] --------\"\n",
    "echo \"$ ed\"\n",
    "echo \"a\"\n",
    "echo $str1\n",
    "echo \".\"\n",
    "echo \"w junk\"\n",
    "echo $str1 > junk\n",
    "echo \"19\"\n",
    "echo \"q\"\n",
    "# make temp file\n",
    "echo \"$ ed\"\n",
    "echo \"a\"\n",
    "echo $str2\n",
    "echo \".\"\n",
    "echo \"w temp\"\n",
    "echo $str2 > temp\n",
    "echo \"2\"\n",
    "echo \"q\"\n",
    "echo \"-------------------------------------------\"\n",
    "\n",
    "#remove void\n",
    "rm -rf void"
   ]
  }
 ],
 "metadata": {
  "kernelspec": {
   "display_name": "Bash",
   "language": "bash",
   "name": "bash"
  },
  "language_info": {
   "codemirror_mode": "shell",
   "file_extension": ".sh",
   "mimetype": "text/x-sh",
   "name": "bash"
  }
 },
 "nbformat": 4,
 "nbformat_minor": 5
}
