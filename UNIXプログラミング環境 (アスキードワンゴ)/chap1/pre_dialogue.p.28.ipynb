{
 "cells": [
  {
   "cell_type": "code",
   "execution_count": 1,
   "id": "a6bc053c-61a0-4aeb-b09d-306fb2892fc7",
   "metadata": {},
   "outputs": [],
   "source": [
    "# Initialize\n",
    "../com/init_tmp"
   ]
  },
  {
   "cell_type": "code",
   "execution_count": 2,
   "id": "05bfe705-03d2-4182-9988-430b21a0ecda",
   "metadata": {},
   "outputs": [
    {
     "name": "stdout",
     "output_type": "stream",
     "text": [
      "-------- [in the bash environment] --------\n",
      "$ ed\n",
      "a\n",
      "Great fleas have little fleas\n",
      "  upon their backs to bite ’em,\n",
      "And little fleas have lesser fleas,\n",
      "  and so ad infinitum.\n",
      "And the great fleas themselves, in turn,\n",
      "  have greater fleas to go on;\n",
      "While these again have greater still,\n",
      "  and greater still, and so on.\n",
      ".\n",
      "w poem\n",
      "265\n",
      "q\n",
      "$\n",
      "-------------------------------------------\n"
     ]
    }
   ],
   "source": [
    "# change directory to tmp\n",
    "cd \"/home/jovyan/UNIXプログラミング環境 (アスキードワンゴ)/tmp\"\n",
    "\n",
    "# writing contents\n",
    "str_l1=\"Great fleas have little fleas\"\n",
    "str_l2=\"  upon their backs to bite ’em,\"\n",
    "str_l3=\"And little fleas have lesser fleas,\"\n",
    "str_l4=\"  and so ad infinitum.\"\n",
    "str_l5=\"And the great fleas themselves, in turn,\"\n",
    "str_l6=\"  have greater fleas to go on;\"\n",
    "str_l7=\"While these again have greater still,\"\n",
    "str_l8=\"  and greater still, and so on.\"\n",
    "\n",
    "LF=$'\\n'\n",
    "\n",
    "# make contents str\n",
    "contents=\"${str_l1}${LF}${str_l2}${LF}${str_l3}${LF}${str_l4}${LF}\"\n",
    "contents+=\"${str_l5}${LF}${str_l6}${LF}${str_l7}${LF}${str_l8}\"\n",
    "\n",
    "# make poem file\n",
    "echo \"-------- [in the bash environment] --------\"\n",
    "echo \"$ ed\"\n",
    "echo \"a\"\n",
    "echo \"$str_l1\"\n",
    "echo \"$str_l2\"\n",
    "echo \"$str_l3\"\n",
    "echo \"$str_l4\"\n",
    "echo \"$str_l5\"\n",
    "echo \"$str_l6\"\n",
    "echo \"$str_l7\"\n",
    "echo \"$str_l8\"\n",
    "echo \".\"\n",
    "echo \"w poem\"\n",
    "echo \"$contents\" > poem\n",
    "echo \"265\"\n",
    "echo \"q\"\n",
    "echo \"$\"\n",
    "echo \"-------------------------------------------\"\n",
    "\n",
    "#remove void\n",
    "rm -rf void"
   ]
  }
 ],
 "metadata": {
  "kernelspec": {
   "display_name": "Bash",
   "language": "bash",
   "name": "bash"
  },
  "language_info": {
   "codemirror_mode": "shell",
   "file_extension": ".sh",
   "mimetype": "text/x-sh",
   "name": "bash"
  }
 },
 "nbformat": 4,
 "nbformat_minor": 5
}
