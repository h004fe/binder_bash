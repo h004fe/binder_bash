{
 "cells": [
  {
   "cell_type": "code",
   "execution_count": 1,
   "id": "4fcda0d6-297b-4ab3-a1f6-eeec3603ef1b",
   "metadata": {},
   "outputs": [],
   "source": [
    "# Initialize\n",
    "../com/init_tmp"
   ]
  },
  {
   "cell_type": "code",
   "execution_count": 2,
   "id": "f9628b59-d794-41aa-8148-57c9c3f2d730",
   "metadata": {},
   "outputs": [
    {
     "name": "stdout",
     "output_type": "stream",
     "text": [
      "-------- [in the bash environment] --------\n",
      "making poem by using echo\n",
      "-------------------------------------------\n",
      "-------- [in the bash environment] --------\n",
      "making new_poem by using echo\n",
      "-------------------------------------------\n"
     ]
    }
   ],
   "source": [
    "# Prerequisites\n",
    "./pre_dialogue.p.31.2 && cd \"/home/jovyan/UNIXプログラミング環境 (アスキードワンゴ)/tmp\""
   ]
  },
  {
   "cell_type": "code",
   "execution_count": 3,
   "id": "71da10c6-19ae-41dc-b6aa-bfb96b7ab735",
   "metadata": {},
   "outputs": [
    {
     "name": "stdout",
     "output_type": "stream",
     "text": [
      "2c2\n",
      "<   upon their backs to bite ’em,\n",
      "---\n",
      ">   upon their backs to bite them,\n",
      "4c4\n",
      "<   and so ad infinitum.\n",
      "---\n",
      ">   and so on ad infinitum.\n"
     ]
    },
    {
     "ename": "",
     "evalue": "1",
     "output_type": "error",
     "traceback": []
    }
   ],
   "source": [
    "diff poem new_poem"
   ]
  }
 ],
 "metadata": {
  "kernelspec": {
   "display_name": "Bash",
   "language": "bash",
   "name": "bash"
  },
  "language_info": {
   "codemirror_mode": "shell",
   "file_extension": ".sh",
   "mimetype": "text/x-sh",
   "name": "bash"
  }
 },
 "nbformat": 4,
 "nbformat_minor": 5
}
