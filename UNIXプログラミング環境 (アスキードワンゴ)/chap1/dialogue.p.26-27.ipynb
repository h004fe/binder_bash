{
 "cells": [
  {
   "cell_type": "code",
   "execution_count": 1,
   "id": "eb8d0ac3-344a-44db-b87e-a8701311cd1e",
   "metadata": {},
   "outputs": [],
   "source": [
    "# Initialize\n",
    "../com/init_tmp"
   ]
  },
  {
   "cell_type": "code",
   "execution_count": 2,
   "id": "f9628b59-d794-41aa-8148-57c9c3f2d730",
   "metadata": {},
   "outputs": [
    {
     "name": "stdout",
     "output_type": "stream",
     "text": [
      "-------- [in the bash environment] --------\n",
      "$ ed\n",
      "a\n",
      "To be or not to be\n",
      ".\n",
      "w junk\n",
      "19\n",
      "q\n",
      "$ ed\n",
      "a\n",
      "This is the question.\n",
      ".\n",
      "w temp\n",
      "2\n",
      "q\n",
      "$\n",
      "-------------------------------------------\n"
     ]
    }
   ],
   "source": [
    "# Prerequisites\n",
    "./pre_dialogue.p.22.2 && cd \"/home/jovyan/UNIXプログラミング環境 (アスキードワンゴ)/tmp\""
   ]
  },
  {
   "cell_type": "code",
   "execution_count": 3,
   "id": "71da10c6-19ae-41dc-b6aa-bfb96b7ab735",
   "metadata": {},
   "outputs": [],
   "source": [
    "mv junk precious"
   ]
  },
  {
   "cell_type": "code",
   "execution_count": 4,
   "id": "f40e0d79-6c89-4e32-8235-06ea9eedbc53",
   "metadata": {},
   "outputs": [
    {
     "name": "stdout",
     "output_type": "stream",
     "text": [
      "precious  temp\n"
     ]
    }
   ],
   "source": [
    "ls"
   ]
  },
  {
   "cell_type": "code",
   "execution_count": 5,
   "id": "2e3d19fa-ac46-4949-9c79-fd2074ee7ab7",
   "metadata": {},
   "outputs": [
    {
     "name": "stdout",
     "output_type": "stream",
     "text": [
      "cat: junk: No such file or directory\n"
     ]
    },
    {
     "ename": "",
     "evalue": "1",
     "output_type": "error",
     "traceback": []
    }
   ],
   "source": [
    "cat junk"
   ]
  },
  {
   "cell_type": "code",
   "execution_count": 6,
   "id": "d2e4a6d8-ef05-4366-9812-06d4e58e23d7",
   "metadata": {},
   "outputs": [],
   "source": [
    "cp precious precious.save"
   ]
  },
  {
   "cell_type": "code",
   "execution_count": 7,
   "id": "4bb3c190-312f-480b-82b0-1a3a18c9f54a",
   "metadata": {},
   "outputs": [
    {
     "name": "stdout",
     "output_type": "stream",
     "text": [
      "rm: cannot remove 'junk': No such file or directory\n"
     ]
    },
    {
     "ename": "",
     "evalue": "1",
     "output_type": "error",
     "traceback": []
    }
   ],
   "source": [
    "rm temp junk"
   ]
  }
 ],
 "metadata": {
  "kernelspec": {
   "display_name": "Bash",
   "language": "bash",
   "name": "bash"
  },
  "language_info": {
   "codemirror_mode": "shell",
   "file_extension": ".sh",
   "mimetype": "text/x-sh",
   "name": "bash"
  }
 },
 "nbformat": 4,
 "nbformat_minor": 5
}
