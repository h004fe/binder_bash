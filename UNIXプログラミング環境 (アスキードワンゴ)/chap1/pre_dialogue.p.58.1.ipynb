{
 "cells": [
  {
   "cell_type": "code",
   "execution_count": 2,
   "id": "05bfe705-03d2-4182-9988-430b21a0ecda",
   "metadata": {},
   "outputs": [
    {
     "name": "stdout",
     "output_type": "stream",
     "text": [
      "-------- [in the bash environment] --------\n",
      "$ ed\n",
      "a\n",
      "now is the time\n",
      "for all good people\n",
      ".\n",
      "w junk\n",
      "36\n",
      "q\n",
      "-------------------------------------------\n"
     ]
    }
   ],
   "source": [
    "# change directory to tmp\n",
    "cd \"/home/jovyan/UNIXプログラミング環境 (アスキードワンゴ)/tmp\"\n",
    "\n",
    "# writing contents\n",
    "str1=\"now is the time\"\n",
    "str2=\"for all good people\"\n",
    "\n",
    "# make junk file\n",
    "echo \"-------- [in the bash environment] --------\"\n",
    "echo \"$ ed\"\n",
    "echo \"a\"\n",
    "echo $str1\n",
    "echo $str2\n",
    "echo \".\"\n",
    "echo \"w junk\"\n",
    "echo $str1 >> junk\n",
    "echo $str2 >> junk\n",
    "echo \"36\"\n",
    "echo \"q\"\n",
    "sleep 1\n",
    "echo \"-------------------------------------------\"\n",
    "\n",
    "#remove void\n",
    "rm -rf void"
   ]
  }
 ],
 "metadata": {
  "kernelspec": {
   "display_name": "Bash",
   "language": "bash",
   "name": "bash"
  },
  "language_info": {
   "codemirror_mode": "shell",
   "file_extension": ".sh",
   "mimetype": "text/x-sh",
   "name": "bash"
  }
 },
 "nbformat": 4,
 "nbformat_minor": 5
}
