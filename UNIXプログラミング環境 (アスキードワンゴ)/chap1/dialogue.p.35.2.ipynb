{
 "cells": [
  {
   "cell_type": "code",
   "execution_count": 1,
   "id": "29602983-e01e-4587-a22f-7b80f8e6c274",
   "metadata": {},
   "outputs": [
    {
     "name": "stdout",
     "output_type": "stream",
     "text": [
      "bin    include  lib32  libexec  local  share\n",
      "games  lib      lib64  libx32   sbin   src\n"
     ]
    }
   ],
   "source": [
    "ls /usr"
   ]
  }
 ],
 "metadata": {
  "kernelspec": {
   "display_name": "Bash",
   "language": "bash",
   "name": "bash"
  },
  "language_info": {
   "codemirror_mode": "shell",
   "file_extension": ".sh",
   "mimetype": "text/x-sh",
   "name": "bash"
  }
 },
 "nbformat": 4,
 "nbformat_minor": 5
}
