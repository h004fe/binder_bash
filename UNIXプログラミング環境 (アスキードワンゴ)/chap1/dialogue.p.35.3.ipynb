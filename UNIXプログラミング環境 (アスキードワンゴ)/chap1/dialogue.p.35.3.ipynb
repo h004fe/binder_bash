{
 "cells": [
  {
   "cell_type": "code",
   "execution_count": 1,
   "id": "29602983-e01e-4587-a22f-7b80f8e6c274",
   "metadata": {},
   "outputs": [
    {
     "name": "stdout",
     "output_type": "stream",
     "text": [
      "bin   dev  home  lib32  libx32  mnt  proc  run   srv  tmp  var\n",
      "boot  etc  lib   lib64  media   opt  root  sbin  sys  usr\n"
     ]
    }
   ],
   "source": [
    "ls /"
   ]
  }
 ],
 "metadata": {
  "kernelspec": {
   "display_name": "Bash",
   "language": "bash",
   "name": "bash"
  },
  "language_info": {
   "codemirror_mode": "shell",
   "file_extension": ".sh",
   "mimetype": "text/x-sh",
   "name": "bash"
  }
 },
 "nbformat": 4,
 "nbformat_minor": 5
}
