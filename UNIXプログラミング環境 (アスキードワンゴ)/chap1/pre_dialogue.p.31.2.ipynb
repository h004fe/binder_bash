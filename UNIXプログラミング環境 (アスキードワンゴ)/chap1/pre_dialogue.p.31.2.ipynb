{
 "cells": [
  {
   "cell_type": "code",
   "execution_count": 1,
   "id": "a6bc053c-61a0-4aeb-b09d-306fb2892fc7",
   "metadata": {},
   "outputs": [],
   "source": [
    "# Initialize\n",
    "../com/init_tmp"
   ]
  },
  {
   "cell_type": "code",
   "execution_count": 2,
   "id": "ecdf3310-59f3-4c1d-b88b-0ed5af98519b",
   "metadata": {},
   "outputs": [],
   "source": [
    "# change directory to tmp\n",
    "cd \"/home/jovyan/UNIXプログラミング環境 (アスキードワンゴ)/tmp\""
   ]
  },
  {
   "cell_type": "code",
   "execution_count": 11,
   "id": "05bfe705-03d2-4182-9988-430b21a0ecda",
   "metadata": {},
   "outputs": [
    {
     "name": "stdout",
     "output_type": "stream",
     "text": [
      "-------- [in the bash environment] --------\n",
      "making poem by using echo\n",
      "-------------------------------------------\n"
     ]
    }
   ],
   "source": [
    "# writing contents1\n",
    "str_l1=\"Great fleas have little fleas\"\n",
    "str_l2=\"  upon their backs to bite ’em,\"\n",
    "str_l3=\"And little fleas have lesser fleas,\"\n",
    "str_l4=\"  and so ad infinitum.\"\n",
    "str_l5=\"And the great fleas themselves, in turn,\"\n",
    "str_l6=\"  have greater fleas to go on;\"\n",
    "str_l7=\"While these again have greater still,\"\n",
    "str_l8=\"  and greater still, and so on.\"\n",
    "\n",
    "LF=$'\\n'\n",
    "\n",
    "# make contents1 str\n",
    "contents1=\"${str_l1}${LF}${str_l2}${LF}${str_l3}${LF}${str_l4}${LF}\"\n",
    "contents1+=\"${str_l5}${LF}${str_l6}${LF}${str_l7}${LF}${str_l8}\"\n",
    "\n",
    "# make poem file\n",
    "echo \"-------- [in the bash environment] --------\"\n",
    "echo \"making poem by using echo\"\n",
    "echo \"$contents1\" > poem\n",
    "echo \"-------------------------------------------\"\n",
    "\n",
    "#remove void\n",
    "rm -rf void"
   ]
  },
  {
   "cell_type": "code",
   "execution_count": 12,
   "id": "30aef8d4-df11-4756-9cdd-7ab4ac48929e",
   "metadata": {},
   "outputs": [
    {
     "name": "stdout",
     "output_type": "stream",
     "text": [
      "-------- [in the bash environment] --------\n",
      "making new_poem by using echo\n",
      "-------------------------------------------\n"
     ]
    }
   ],
   "source": [
    "# writing contents2\n",
    "str_l1=\"Great fleas have little fleas\"\n",
    "str_l2=\"  upon their backs to bite them,\"\n",
    "str_l3=\"And little fleas have lesser fleas,\"\n",
    "str_l4=\"  and so on ad infinitum.\"\n",
    "str_l5=\"And the great fleas themselves, in turn,\"\n",
    "str_l6=\"  have greater fleas to go on;\"\n",
    "str_l7=\"While these again have greater still,\"\n",
    "str_l8=\"  and greater still, and so on.\"\n",
    "\n",
    "LF=$'\\n'\n",
    "\n",
    "# make contents2 str\n",
    "contents2=\"${str_l1}${LF}${str_l2}${LF}${str_l3}${LF}${str_l4}${LF}\"\n",
    "contents2+=\"${str_l5}${LF}${str_l6}${LF}${str_l7}${LF}${str_l8}\"\n",
    "\n",
    "# make new_poem file\n",
    "echo \"-------- [in the bash environment] --------\"\n",
    "echo \"making new_poem by using echo\"\n",
    "echo \"$contents2\" > new_poem\n",
    "echo \"-------------------------------------------\"\n",
    "\n",
    "#remove void\n",
    "rm -rf void"
   ]
  }
 ],
 "metadata": {
  "kernelspec": {
   "display_name": "Bash",
   "language": "bash",
   "name": "bash"
  },
  "language_info": {
   "codemirror_mode": "shell",
   "file_extension": ".sh",
   "mimetype": "text/x-sh",
   "name": "bash"
  }
 },
 "nbformat": 4,
 "nbformat_minor": 5
}
