{
 "cells": [
  {
   "cell_type": "code",
   "execution_count": 6,
   "id": "8d71246d-3af4-4f01-8d69-fa20299a03ad",
   "metadata": {},
   "outputs": [],
   "source": [
    "who"
   ]
  }
 ],
 "metadata": {
  "kernelspec": {
   "display_name": "Bash",
   "language": "bash",
   "name": "bash"
  },
  "language_info": {
   "codemirror_mode": "shell",
   "file_extension": ".sh",
   "mimetype": "text/x-sh",
   "name": "bash"
  }
 },
 "nbformat": 4,
 "nbformat_minor": 5
}
