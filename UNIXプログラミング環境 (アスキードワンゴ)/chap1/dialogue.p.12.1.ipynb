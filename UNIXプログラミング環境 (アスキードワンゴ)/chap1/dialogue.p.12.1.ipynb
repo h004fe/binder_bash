{
 "cells": [
  {
   "cell_type": "code",
   "execution_count": 1,
   "id": "19425fd9-61a9-48ee-a6da-26cad9fda5ec",
   "metadata": {},
   "outputs": [
    {
     "name": "stdout",
     "output_type": "stream",
     "text": [
      "Sat May 25 12:57:21 PM UTC 2024\n"
     ]
    }
   ],
   "source": [
    "date"
   ]
  }
 ],
 "metadata": {
  "kernelspec": {
   "display_name": "Bash",
   "language": "bash",
   "name": "bash"
  },
  "language_info": {
   "codemirror_mode": "shell",
   "file_extension": ".sh",
   "mimetype": "text/x-sh",
   "name": "bash"
  }
 },
 "nbformat": 4,
 "nbformat_minor": 5
}
