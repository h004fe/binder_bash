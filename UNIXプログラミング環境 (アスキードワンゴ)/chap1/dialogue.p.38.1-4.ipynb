{
 "cells": [
  {
   "cell_type": "code",
   "execution_count": 1,
   "id": "4fcda0d6-297b-4ab3-a1f6-eeec3603ef1b",
   "metadata": {},
   "outputs": [],
   "source": [
    "# Initialize\n",
    "../com/init_tmp"
   ]
  },
  {
   "cell_type": "code",
   "execution_count": 2,
   "id": "f9628b59-d794-41aa-8148-57c9c3f2d730",
   "metadata": {},
   "outputs": [],
   "source": [
    "cd \"/home/jovyan/UNIXプログラミング環境 (アスキードワンゴ)/tmp\""
   ]
  },
  {
   "cell_type": "code",
   "execution_count": 3,
   "id": "71da10c6-19ae-41dc-b6aa-bfb96b7ab735",
   "metadata": {},
   "outputs": [],
   "source": [
    "mkdir book"
   ]
  },
  {
   "cell_type": "code",
   "execution_count": 4,
   "id": "a4123709-19b0-4513-936e-d26205e7e8e4",
   "metadata": {},
   "outputs": [],
   "source": [
    "cd book"
   ]
  },
  {
   "cell_type": "code",
   "execution_count": 5,
   "id": "fc767c26-c96a-4c15-8a21-28a8c9d044af",
   "metadata": {},
   "outputs": [
    {
     "name": "stdout",
     "output_type": "stream",
     "text": [
      "/home/jovyan/UNIXプログラミング環境 (アスキードワンゴ)/tmp/book\n"
     ]
    }
   ],
   "source": [
    "pwd"
   ]
  },
  {
   "cell_type": "code",
   "execution_count": 6,
   "id": "7c7da005-21e2-4579-9198-ae31294dd1c8",
   "metadata": {},
   "outputs": [],
   "source": [
    "cd .."
   ]
  },
  {
   "cell_type": "code",
   "execution_count": 7,
   "id": "847641c1-b727-4f25-85c4-fd423e2252ac",
   "metadata": {},
   "outputs": [
    {
     "name": "stdout",
     "output_type": "stream",
     "text": [
      "/home/jovyan/UNIXプログラミング環境 (アスキードワンゴ)/tmp\n"
     ]
    }
   ],
   "source": [
    "pwd"
   ]
  },
  {
   "cell_type": "code",
   "execution_count": 8,
   "id": "b0873f5b-226c-46d0-ad63-c1594220ef37",
   "metadata": {},
   "outputs": [],
   "source": [
    "cd"
   ]
  },
  {
   "cell_type": "code",
   "execution_count": 9,
   "id": "f5e9ce90-4c63-414d-9a88-fae580bd3c92",
   "metadata": {},
   "outputs": [
    {
     "name": "stdout",
     "output_type": "stream",
     "text": [
      "/home/jovyan\n"
     ]
    }
   ],
   "source": [
    "pwd"
   ]
  },
  {
   "cell_type": "code",
   "execution_count": 10,
   "id": "cd2fbd76-eb9d-4db6-9f2d-71b6d0ad38b4",
   "metadata": {},
   "outputs": [],
   "source": [
    "cd \"/home/jovyan/UNIXプログラミング環境 (アスキードワンゴ)/tmp\""
   ]
  },
  {
   "cell_type": "code",
   "execution_count": 11,
   "id": "ea472653-eab6-4432-8366-db87cc0860c8",
   "metadata": {},
   "outputs": [
    {
     "name": "stdout",
     "output_type": "stream",
     "text": [
      "/home/jovyan/UNIXプログラミング環境 (アスキードワンゴ)/tmp\n"
     ]
    }
   ],
   "source": [
    "pwd"
   ]
  },
  {
   "cell_type": "code",
   "execution_count": 12,
   "id": "d20136f5-b35f-40d9-9d11-b613263d61ba",
   "metadata": {},
   "outputs": [],
   "source": [
    "touch ./book/void"
   ]
  },
  {
   "cell_type": "code",
   "execution_count": 13,
   "id": "650171fe-257e-4171-8968-1e13bb26a276",
   "metadata": {},
   "outputs": [
    {
     "name": "stdout",
     "output_type": "stream",
     "text": [
      "./book/void\n"
     ]
    }
   ],
   "source": [
    "ls ./book/void"
   ]
  },
  {
   "cell_type": "code",
   "execution_count": 15,
   "id": "2eae9ebb-0b8b-4d4a-90e8-a96463c65f27",
   "metadata": {},
   "outputs": [
    {
     "name": "stdout",
     "output_type": "stream",
     "text": [
      "rmdir: failed to remove 'book': Directory not empty\n"
     ]
    },
    {
     "ename": "",
     "evalue": "1",
     "output_type": "error",
     "traceback": []
    }
   ],
   "source": [
    "rmdir book"
   ]
  },
  {
   "cell_type": "code",
   "execution_count": 16,
   "id": "6a074fac-1ac5-49fc-8d54-e74b3da8ac45",
   "metadata": {},
   "outputs": [],
   "source": [
    "rm ./book/void"
   ]
  },
  {
   "cell_type": "code",
   "execution_count": 17,
   "id": "faae3900-6cde-4755-97ac-51167ce43b7a",
   "metadata": {},
   "outputs": [],
   "source": [
    "rmdir book"
   ]
  }
 ],
 "metadata": {
  "kernelspec": {
   "display_name": "Bash",
   "language": "bash",
   "name": "bash"
  },
  "language_info": {
   "codemirror_mode": "shell",
   "file_extension": ".sh",
   "mimetype": "text/x-sh",
   "name": "bash"
  }
 },
 "nbformat": 4,
 "nbformat_minor": 5
}
