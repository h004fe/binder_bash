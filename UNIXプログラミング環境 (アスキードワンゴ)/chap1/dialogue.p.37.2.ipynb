{
 "cells": [
  {
   "cell_type": "code",
   "execution_count": 1,
   "id": "19425fd9-61a9-48ee-a6da-26cad9fda5ec",
   "metadata": {},
   "outputs": [
    {
     "name": "stdout",
     "output_type": "stream",
     "text": [
      "Mon Jul  1 12:02:26 PM UTC 2024\n"
     ]
    }
   ],
   "source": [
    "/bin/date"
   ]
  },
  {
   "cell_type": "code",
   "execution_count": 2,
   "id": "81deac7c-ea89-4dc0-829e-31e53c092b3d",
   "metadata": {},
   "outputs": [],
   "source": [
    "/bin/who"
   ]
  },
  {
   "cell_type": "code",
   "execution_count": 3,
   "id": "d6d5235b-5b72-489f-aa1a-171cdd698cdd",
   "metadata": {},
   "outputs": [
    {
     "name": "stdout",
     "output_type": "stream",
     "text": [
      "jovyan\n"
     ]
    }
   ],
   "source": [
    "/bin/whoami"
   ]
  }
 ],
 "metadata": {
  "kernelspec": {
   "display_name": "Bash",
   "language": "bash",
   "name": "bash"
  },
  "language_info": {
   "codemirror_mode": "shell",
   "file_extension": ".sh",
   "mimetype": "text/x-sh",
   "name": "bash"
  }
 },
 "nbformat": 4,
 "nbformat_minor": 5
}
