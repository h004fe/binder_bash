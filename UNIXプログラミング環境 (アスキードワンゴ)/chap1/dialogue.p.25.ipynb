{
 "cells": [
  {
   "cell_type": "code",
   "execution_count": 1,
   "id": "f9628b59-d794-41aa-8148-57c9c3f2d730",
   "metadata": {},
   "outputs": [
    {
     "name": "stdout",
     "output_type": "stream",
     "text": [
      "-------- [in the bash environment] --------\n",
      "$ ed\n",
      "a\n",
      "To be or not to be\n",
      ".\n",
      "w junk\n",
      "19\n",
      "q\n",
      "$ ed\n",
      "a\n",
      "This is the question.\n",
      ".\n",
      "w temp\n",
      "2\n",
      "q\n",
      "-------------------------------------------\n"
     ]
    }
   ],
   "source": [
    "# Prerequisites\n",
    "./pre_dialogue.p.22.2 && cd \"/home/jovyan/UNIXプログラミング環境 (アスキードワンゴ)/tmp\""
   ]
  },
  {
   "cell_type": "code",
   "execution_count": 2,
   "id": "71da10c6-19ae-41dc-b6aa-bfb96b7ab735",
   "metadata": {},
   "outputs": [
    {
     "name": "stdout",
     "output_type": "stream",
     "text": [
      "To be or not to be\n"
     ]
    }
   ],
   "source": [
    "cat junk"
   ]
  },
  {
   "cell_type": "code",
   "execution_count": 3,
   "id": "0a5fa315-1d27-438f-91b6-89e9a04e58ac",
   "metadata": {},
   "outputs": [
    {
     "name": "stdout",
     "output_type": "stream",
     "text": [
      "This is the question.\n"
     ]
    }
   ],
   "source": [
    "cat temp"
   ]
  },
  {
   "cell_type": "code",
   "execution_count": 4,
   "id": "3d4ed556-31e5-4ffe-bfe9-9fabad81d295",
   "metadata": {},
   "outputs": [
    {
     "name": "stdout",
     "output_type": "stream",
     "text": [
      "To be or not to be\n",
      "This is the question.\n"
     ]
    }
   ],
   "source": [
    "cat junk temp"
   ]
  }
 ],
 "metadata": {
  "kernelspec": {
   "display_name": "Bash",
   "language": "bash",
   "name": "bash"
  },
  "language_info": {
   "codemirror_mode": "shell",
   "file_extension": ".sh",
   "mimetype": "text/x-sh",
   "name": "bash"
  }
 },
 "nbformat": 4,
 "nbformat_minor": 5
}
